{
 "cells": [
  {
   "cell_type": "markdown",
   "metadata": {},
   "source": [
    "# Introduction\n",
    "\n",
    "This notebook involves the analysis of a time-series data consisting entries recording when a user from some country visits a certain website at a certain time.\n",
    "\n",
    "__Answers for each question are given as the final code block in each section.__"
   ]
  },
  {
   "cell_type": "code",
   "execution_count": 1,
   "metadata": {},
   "outputs": [],
   "source": [
    "import pandas as pd"
   ]
  },
  {
   "cell_type": "markdown",
   "metadata": {
    "toc": true
   },
   "source": [
    "<h1>Table of Contents<span class=\"tocSkip\"></span></h1>\n",
    "<div class=\"toc\"><ul class=\"toc-item\"><li><span><a href=\"#Introduction\" data-toc-modified-id=\"Introduction-1\"><span class=\"toc-item-num\">1&nbsp;&nbsp;</span>Introduction</a></span></li><li><span><a href=\"#Dataset\" data-toc-modified-id=\"Dataset-2\"><span class=\"toc-item-num\">2&nbsp;&nbsp;</span>Dataset</a></span><ul class=\"toc-item\"><li><span><a href=\"#Load-Data\" data-toc-modified-id=\"Load-Data-2.1\"><span class=\"toc-item-num\">2.1&nbsp;&nbsp;</span>Load Data</a></span></li><li><span><a href=\"#Quick-Inspection\" data-toc-modified-id=\"Quick-Inspection-2.2\"><span class=\"toc-item-num\">2.2&nbsp;&nbsp;</span>Quick Inspection</a></span></li></ul></li><li><span><a href=\"#Questions\" data-toc-modified-id=\"Questions-3\"><span class=\"toc-item-num\">3&nbsp;&nbsp;</span>Questions</a></span><ul class=\"toc-item\"><li><span><a href=\"#Consider-only-the-rows-with-country_id-=-&quot;BDV&quot;-(there-are-844-such-rows).-For-each-site_id,-we-can-compute-the-number-of-unique-user_id's-found-in-these-844-rows.-Which-site_id-has-the-largest-number-of-unique-users?-And-what's-the-number?\" data-toc-modified-id=\"Consider-only-the-rows-with-country_id-=-&quot;BDV&quot;-(there-are-844-such-rows).-For-each-site_id,-we-can-compute-the-number-of-unique-user_id's-found-in-these-844-rows.-Which-site_id-has-the-largest-number-of-unique-users?-And-what's-the-number?-3.1\"><span class=\"toc-item-num\">3.1&nbsp;&nbsp;</span>Consider only the rows with country_id = \"BDV\" (there are 844 such rows). For each site_id, we can compute the number of unique user_id's found in these 844 rows. Which site_id has the largest number of unique users? And what's the number?</a></span></li><li><span><a href=\"#Between-2019-02-03-00:00:00-and-2019-02-04-23:59:59,-there-are-four-users-who-visited-a-certain-site-more-than-10-times.-Find-these-four-users-&amp;-which-sites-they-(each)-visited-more-than-10-times.-(Simply-provides-four-triples-in-the-form-(user_id,-site_id,-number-of-visits)-in-the-box-below.)\" data-toc-modified-id=\"Between-2019-02-03-00:00:00-and-2019-02-04-23:59:59,-there-are-four-users-who-visited-a-certain-site-more-than-10-times.-Find-these-four-users-&amp;-which-sites-they-(each)-visited-more-than-10-times.-(Simply-provides-four-triples-in-the-form-(user_id,-site_id,-number-of-visits)-in-the-box-below.)-3.2\"><span class=\"toc-item-num\">3.2&nbsp;&nbsp;</span>Between 2019-02-03 00:00:00 and 2019-02-04 23:59:59, there are four users who visited a certain site more than 10 times. Find these four users &amp; which sites they (each) visited more than 10 times. (Simply provides four triples in the form (user_id, site_id, number of visits) in the box below.)</a></span></li><li><span><a href=\"#For-each-site,-compute-the-unique-number-of-users-whose-last-visit-(found-in-the-original-data-set)-was-to-that-site.-For-instance,-user-&quot;LC3561&quot;'s-last-visit-is-to-&quot;N0OTG&quot;-based-on-timestamp-data.-Based-on-this-measure,-what-are-top-three-sites?-(hint:-site-&quot;3POLC&quot;-is-ranked-at-5th-with-28-users-whose-last-visit-in-the-data-set-was-to-3POLC;-simply-provide-three-pairs-in-the-form-(site_id,-number-of-users).)\" data-toc-modified-id=\"For-each-site,-compute-the-unique-number-of-users-whose-last-visit-(found-in-the-original-data-set)-was-to-that-site.-For-instance,-user-&quot;LC3561&quot;'s-last-visit-is-to-&quot;N0OTG&quot;-based-on-timestamp-data.-Based-on-this-measure,-what-are-top-three-sites?-(hint:-site-&quot;3POLC&quot;-is-ranked-at-5th-with-28-users-whose-last-visit-in-the-data-set-was-to-3POLC;-simply-provide-three-pairs-in-the-form-(site_id,-number-of-users).)-3.3\"><span class=\"toc-item-num\">3.3&nbsp;&nbsp;</span>For each site, compute the unique number of users whose last visit (found in the original data set) was to that site. For instance, user \"LC3561\"'s last visit is to \"N0OTG\" based on timestamp data. Based on this measure, what are top three sites? (hint: site \"3POLC\" is ranked at 5th with 28 users whose last visit in the data set was to 3POLC; simply provide three pairs in the form (site_id, number of users).)</a></span></li><li><span><a href=\"#For-each-user,-determine-the-first-site-he/she-visited-and-the-last-site-he/she-visited-based-on-the-timestamp-data.-Compute-the-number-of-users-whose-first/last-visits-are-to-the-same-website.-What-is-the-number?\" data-toc-modified-id=\"For-each-user,-determine-the-first-site-he/she-visited-and-the-last-site-he/she-visited-based-on-the-timestamp-data.-Compute-the-number-of-users-whose-first/last-visits-are-to-the-same-website.-What-is-the-number?-3.4\"><span class=\"toc-item-num\">3.4&nbsp;&nbsp;</span>For each user, determine the first site he/she visited and the last site he/she visited based on the timestamp data. Compute the number of users whose first/last visits are to the same website. What is the number?</a></span></li></ul></li></ul></div>"
   ]
  },
  {
   "cell_type": "markdown",
   "metadata": {},
   "source": [
    "# Dataset"
   ]
  },
  {
   "cell_type": "markdown",
   "metadata": {},
   "source": [
    "## Load Data"
   ]
  },
  {
   "cell_type": "code",
   "execution_count": 2,
   "metadata": {},
   "outputs": [],
   "source": [
    "raw_data = pd.read_csv('./data/Adops & Data Scientist Sample Data - Q1 Analytics.csv')"
   ]
  },
  {
   "cell_type": "markdown",
   "metadata": {},
   "source": [
    "## Quick Inspection"
   ]
  },
  {
   "cell_type": "code",
   "execution_count": 3,
   "metadata": {},
   "outputs": [
    {
     "data": {
      "text/html": [
       "<div>\n",
       "<style scoped>\n",
       "    .dataframe tbody tr th:only-of-type {\n",
       "        vertical-align: middle;\n",
       "    }\n",
       "\n",
       "    .dataframe tbody tr th {\n",
       "        vertical-align: top;\n",
       "    }\n",
       "\n",
       "    .dataframe thead th {\n",
       "        text-align: right;\n",
       "    }\n",
       "</style>\n",
       "<table border=\"1\" class=\"dataframe\">\n",
       "  <thead>\n",
       "    <tr style=\"text-align: right;\">\n",
       "      <th></th>\n",
       "      <th>ts</th>\n",
       "      <th>user_id</th>\n",
       "      <th>country_id</th>\n",
       "      <th>site_id</th>\n",
       "    </tr>\n",
       "  </thead>\n",
       "  <tbody>\n",
       "    <tr>\n",
       "      <th>0</th>\n",
       "      <td>2019-02-01 00:01:24</td>\n",
       "      <td>LC36FC</td>\n",
       "      <td>TL6</td>\n",
       "      <td>N0OTG</td>\n",
       "    </tr>\n",
       "    <tr>\n",
       "      <th>1</th>\n",
       "      <td>2019-02-01 00:10:19</td>\n",
       "      <td>LC39B6</td>\n",
       "      <td>TL6</td>\n",
       "      <td>N0OTG</td>\n",
       "    </tr>\n",
       "    <tr>\n",
       "      <th>2</th>\n",
       "      <td>2019-02-01 00:21:50</td>\n",
       "      <td>LC3500</td>\n",
       "      <td>TL6</td>\n",
       "      <td>N0OTG</td>\n",
       "    </tr>\n",
       "    <tr>\n",
       "      <th>3</th>\n",
       "      <td>2019-02-01 00:22:50</td>\n",
       "      <td>LC374F</td>\n",
       "      <td>TL6</td>\n",
       "      <td>N0OTG</td>\n",
       "    </tr>\n",
       "    <tr>\n",
       "      <th>4</th>\n",
       "      <td>2019-02-01 00:23:44</td>\n",
       "      <td>LCC1C3</td>\n",
       "      <td>TL6</td>\n",
       "      <td>QGO3G</td>\n",
       "    </tr>\n",
       "  </tbody>\n",
       "</table>\n",
       "</div>"
      ],
      "text/plain": [
       "                    ts user_id country_id site_id\n",
       "0  2019-02-01 00:01:24  LC36FC        TL6   N0OTG\n",
       "1  2019-02-01 00:10:19  LC39B6        TL6   N0OTG\n",
       "2  2019-02-01 00:21:50  LC3500        TL6   N0OTG\n",
       "3  2019-02-01 00:22:50  LC374F        TL6   N0OTG\n",
       "4  2019-02-01 00:23:44  LCC1C3        TL6   QGO3G"
      ]
     },
     "execution_count": 3,
     "metadata": {},
     "output_type": "execute_result"
    }
   ],
   "source": [
    "raw_data.head()"
   ]
  },
  {
   "cell_type": "code",
   "execution_count": 4,
   "metadata": {},
   "outputs": [
    {
     "data": {
      "text/html": [
       "<div>\n",
       "<style scoped>\n",
       "    .dataframe tbody tr th:only-of-type {\n",
       "        vertical-align: middle;\n",
       "    }\n",
       "\n",
       "    .dataframe tbody tr th {\n",
       "        vertical-align: top;\n",
       "    }\n",
       "\n",
       "    .dataframe thead th {\n",
       "        text-align: right;\n",
       "    }\n",
       "</style>\n",
       "<table border=\"1\" class=\"dataframe\">\n",
       "  <thead>\n",
       "    <tr style=\"text-align: right;\">\n",
       "      <th></th>\n",
       "      <th>ts</th>\n",
       "      <th>user_id</th>\n",
       "      <th>country_id</th>\n",
       "      <th>site_id</th>\n",
       "    </tr>\n",
       "  </thead>\n",
       "  <tbody>\n",
       "    <tr>\n",
       "      <th>count</th>\n",
       "      <td>3553</td>\n",
       "      <td>3553</td>\n",
       "      <td>3553</td>\n",
       "      <td>3553</td>\n",
       "    </tr>\n",
       "    <tr>\n",
       "      <th>unique</th>\n",
       "      <td>3538</td>\n",
       "      <td>1916</td>\n",
       "      <td>7</td>\n",
       "      <td>8</td>\n",
       "    </tr>\n",
       "    <tr>\n",
       "      <th>top</th>\n",
       "      <td>2019-02-03 20:00:34</td>\n",
       "      <td>LC3A59</td>\n",
       "      <td>TL6</td>\n",
       "      <td>5NPAU</td>\n",
       "    </tr>\n",
       "    <tr>\n",
       "      <th>freq</th>\n",
       "      <td>3</td>\n",
       "      <td>149</td>\n",
       "      <td>1449</td>\n",
       "      <td>1614</td>\n",
       "    </tr>\n",
       "  </tbody>\n",
       "</table>\n",
       "</div>"
      ],
      "text/plain": [
       "                         ts user_id country_id site_id\n",
       "count                  3553    3553       3553    3553\n",
       "unique                 3538    1916          7       8\n",
       "top     2019-02-03 20:00:34  LC3A59        TL6   5NPAU\n",
       "freq                      3     149       1449    1614"
      ]
     },
     "execution_count": 4,
     "metadata": {},
     "output_type": "execute_result"
    }
   ],
   "source": [
    "raw_data.describe()"
   ]
  },
  {
   "cell_type": "code",
   "execution_count": 5,
   "metadata": {},
   "outputs": [],
   "source": [
    "df = raw_data"
   ]
  },
  {
   "cell_type": "markdown",
   "metadata": {},
   "source": [
    "# Questions\n",
    "\n",
    "## Consider only the rows with country_id = \"BDV\" (there are 844 such rows). For each site_id, we can compute the number of unique user_id's found in these 844 rows. Which site_id has the largest number of unique users? And what's the number?\n"
   ]
  },
  {
   "cell_type": "code",
   "execution_count": 6,
   "metadata": {},
   "outputs": [
    {
     "data": {
      "text/plain": [
       "site_id\n",
       "5NPAU    544\n",
       "Name: user_id, dtype: int64"
      ]
     },
     "execution_count": 6,
     "metadata": {},
     "output_type": "execute_result"
    }
   ],
   "source": [
    "df[df['country_id'] == 'BDV'].groupby('site_id')['user_id'].nunique().sort_values(ascending=False).head(1)"
   ]
  },
  {
   "cell_type": "markdown",
   "metadata": {},
   "source": [
    "## Between 2019-02-03 00:00:00 and 2019-02-04 23:59:59, there are four users who visited a certain site more than 10 times. Find these four users & which sites they (each) visited more than 10 times. (Simply provides four triples in the form (user_id, site_id, number of visits) in the box below.)"
   ]
  },
  {
   "cell_type": "code",
   "execution_count": 7,
   "metadata": {},
   "outputs": [],
   "source": [
    "df['ts'] = df['ts'].apply(pd.to_datetime)"
   ]
  },
  {
   "cell_type": "code",
   "execution_count": 8,
   "metadata": {},
   "outputs": [],
   "source": [
    "start_time = pd.to_datetime('2019-02-03 00:00:00')\n",
    "end_time = pd.to_datetime('2019-02-04 23:59:59')"
   ]
  },
  {
   "cell_type": "code",
   "execution_count": 9,
   "metadata": {},
   "outputs": [],
   "source": [
    "# Filter entries between dates\n",
    "df_between_dates = df[(df['ts'] > start_time) & (df['ts'] < end_time)]"
   ]
  },
  {
   "cell_type": "code",
   "execution_count": 10,
   "metadata": {},
   "outputs": [
    {
     "data": {
      "text/plain": [
       "user_id  site_id\n",
       "LC3A59   N0OTG      26\n",
       "LC06C3   N0OTG      25\n",
       "LC3C9D   N0OTG      17\n",
       "LC3C7E   3POLC      15\n",
       "Name: site_id, dtype: int64"
      ]
     },
     "execution_count": 10,
     "metadata": {},
     "output_type": "execute_result"
    }
   ],
   "source": [
    "# Find 4 users who visted a certain site more than 10 times \n",
    "df_between_dates.groupby('user_id')['site_id'].value_counts().sort_values(ascending=False).head(4)"
   ]
  },
  {
   "cell_type": "markdown",
   "metadata": {},
   "source": [
    "## For each site, compute the unique number of users whose last visit (found in the original data set) was to that site. For instance, user \"LC3561\"'s last visit is to \"N0OTG\" based on timestamp data. Based on this measure, what are top three sites? (hint: site \"3POLC\" is ranked at 5th with 28 users whose last visit in the data set was to 3POLC; simply provide three pairs in the form (site_id, number of users).)"
   ]
  },
  {
   "cell_type": "code",
   "execution_count": 11,
   "metadata": {},
   "outputs": [],
   "source": [
    "# Get users and timestamps, for each user's last entry in the dataset\n",
    "users_last_visit = df.groupby('user_id', as_index=False)['ts'].max()"
   ]
  },
  {
   "cell_type": "code",
   "execution_count": 12,
   "metadata": {},
   "outputs": [],
   "source": [
    "# Merge last visits with the original dataset\n",
    "users_last_visited_sites = pd.merge(users_last_visit, df)"
   ]
  },
  {
   "cell_type": "code",
   "execution_count": 13,
   "metadata": {},
   "outputs": [
    {
     "data": {
      "text/plain": [
       "5NPAU    992\n",
       "N0OTG    561\n",
       "QGO3G    289\n",
       "Name: site_id, dtype: int64"
      ]
     },
     "execution_count": 13,
     "metadata": {},
     "output_type": "execute_result"
    }
   ],
   "source": [
    "# Return top 3 sites\n",
    "users_last_visited_sites['site_id'].value_counts().head(3)"
   ]
  },
  {
   "cell_type": "markdown",
   "metadata": {},
   "source": [
    "## For each user, determine the first site he/she visited and the last site he/she visited based on the timestamp data. Compute the number of users whose first/last visits are to the same website. What is the number?"
   ]
  },
  {
   "cell_type": "code",
   "execution_count": 14,
   "metadata": {},
   "outputs": [],
   "source": [
    "# Get users and timestamps, for each user's first entry in the dataset\n",
    "users_first_visit = df.groupby('user_id', as_index=False)['ts'].min()"
   ]
  },
  {
   "cell_type": "code",
   "execution_count": 15,
   "metadata": {},
   "outputs": [],
   "source": [
    "# Merge last visits with the original dataset\n",
    "users_first_visited_sites = pd.merge(users_first_visit, df)"
   ]
  },
  {
   "cell_type": "code",
   "execution_count": 16,
   "metadata": {},
   "outputs": [],
   "source": [
    "# Double check that the user_ids in the dataframes are aligned\n",
    "assert users_first_visited_sites['user_id'].equals(users_last_visited_sites['user_id'])"
   ]
  },
  {
   "cell_type": "code",
   "execution_count": 17,
   "metadata": {},
   "outputs": [
    {
     "data": {
      "text/plain": [
       "1670"
      ]
     },
     "execution_count": 17,
     "metadata": {},
     "output_type": "execute_result"
    }
   ],
   "source": [
    "# Compute the sum total number of users whose first/last visits are to the same website\n",
    "(users_first_visited_sites['site_id'] == users_last_visited_sites['site_id']).sum()"
   ]
  }
 ],
 "metadata": {
  "kernelspec": {
   "display_name": "Python 3",
   "language": "python",
   "name": "python3"
  },
  "language_info": {
   "codemirror_mode": {
    "name": "ipython",
    "version": 3
   },
   "file_extension": ".py",
   "mimetype": "text/x-python",
   "name": "python",
   "nbconvert_exporter": "python",
   "pygments_lexer": "ipython3",
   "version": "3.6.7"
  },
  "toc": {
   "base_numbering": 1,
   "nav_menu": {},
   "number_sections": true,
   "sideBar": true,
   "skip_h1_title": false,
   "title_cell": "Table of Contents",
   "title_sidebar": "Contents",
   "toc_cell": true,
   "toc_position": {},
   "toc_section_display": true,
   "toc_window_display": false
  },
  "varInspector": {
   "cols": {
    "lenName": 16,
    "lenType": 16,
    "lenVar": 40
   },
   "kernels_config": {
    "python": {
     "delete_cmd_postfix": "",
     "delete_cmd_prefix": "del ",
     "library": "var_list.py",
     "varRefreshCmd": "print(var_dic_list())"
    },
    "r": {
     "delete_cmd_postfix": ") ",
     "delete_cmd_prefix": "rm(",
     "library": "var_list.r",
     "varRefreshCmd": "cat(var_dic_list()) "
    }
   },
   "types_to_exclude": [
    "module",
    "function",
    "builtin_function_or_method",
    "instance",
    "_Feature"
   ],
   "window_display": false
  }
 },
 "nbformat": 4,
 "nbformat_minor": 2
}
